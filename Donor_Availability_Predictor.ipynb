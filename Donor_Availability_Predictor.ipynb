{
 "cells": [
  {
   "cell_type": "markdown",
   "id": "f19fdb94",
   "metadata": {},
   "source": [
    "\n",
    "# Donor Availability Predictor \n",
    "\n",
    "\n",
    "**Objective**: Predict whether a donor is **Available** and export a final model + tiny metrics for a Streamlit demo app.\n",
    "\n",
    "**Dataset**: `data/Blood_Donor_updated.csv`  \n",
    "**Target**: `availability` (Yes/No → 1/0)\n",
    "\n",
    "**What you'll get by the end:**\n",
    "- A small **leaderboard** across 3 simple models (LogReg, RandomForest, SVC-RBF)\n",
    "- A **chosen model** evaluated on a test set\n",
    "- Saved artifacts for the app:\n",
    "  - `models/final_model.pkl`\n",
    "  - `models/metrics.json`\n"
   ]
  },
  {
   "cell_type": "markdown",
   "id": "f8af8423",
   "metadata": {},
   "source": [
    "\n",
    "## Step 0 — Setup: imports & paths\n",
    "**Why this step?** We import just what we need and define where data and artifacts live. Keeping paths up top makes the notebook portable.\n",
    "\n",
    "**Advantages**\n",
    "- Reproducible file structure\n",
    "- Easy to switch environments (Colab/VS Code)"
   ]
  },
  {
   "cell_type": "code",
   "execution_count": 1,
   "id": "f4d7fb38",
   "metadata": {},
   "outputs": [
    {
     "name": "stdout",
     "output_type": "stream",
     "text": [
      "Project root: C:\\Users\\danan\\Downloads\\donor_app_full (3)\n",
      "Dataset path : C:\\Users\\danan\\Downloads\\donor_app_full (3)\\data\\Blood_Donor_updated.csv\n",
      "Models dir   : C:\\Users\\danan\\Downloads\\donor_app_full (3)\\models\n"
     ]
    }
   ],
   "source": [
    "\n",
    "import os, json, warnings, time\n",
    "from pathlib import Path\n",
    "\n",
    "import numpy as np\n",
    "import pandas as pd\n",
    "import matplotlib.pyplot as plt\n",
    "\n",
    "from sklearn.model_selection import train_test_split, StratifiedKFold, cross_validate\n",
    "from sklearn.compose import ColumnTransformer\n",
    "from sklearn.preprocessing import OneHotEncoder, StandardScaler\n",
    "from sklearn.pipeline import Pipeline\n",
    "from sklearn.impute import SimpleImputer\n",
    "from sklearn.linear_model import LogisticRegression\n",
    "from sklearn.ensemble import RandomForestClassifier\n",
    "from sklearn.svm import SVC\n",
    "from sklearn.metrics import f1_score, roc_auc_score, classification_report, confusion_matrix, ConfusionMatrixDisplay\n",
    "\n",
    "warnings.filterwarnings('ignore')\n",
    "\n",
    "ROOT = Path('.').resolve()\n",
    "DATA = ROOT / 'data' / 'Blood_Donor_updated.csv'\n",
    "MODELS_DIR = ROOT / 'models'\n",
    "MODELS_DIR.mkdir(parents=True, exist_ok=True)\n",
    "\n",
    "print('Project root:', ROOT)\n",
    "print('Dataset path :', DATA)\n",
    "print('Models dir   :', MODELS_DIR)\n"
   ]
  },
  {
   "cell_type": "markdown",
   "id": "07a947dd",
   "metadata": {},
   "source": [
    "\n",
    "## Step 1 — Load dataset\n",
    "**What we do:** Read the CSV, peek at shape and a few rows.\n",
    "\n",
    "**Advantages**\n",
    "- Quick validation that the file is reachable\n",
    "- Early sense of column names & types"
   ]
  },
  {
   "cell_type": "code",
   "execution_count": 2,
   "id": "2888e521",
   "metadata": {},
   "outputs": [
    {
     "name": "stdout",
     "output_type": "stream",
     "text": [
      "Initial shape: (10021, 12)\n"
     ]
    },
    {
     "data": {
      "text/html": [
       "<div>\n",
       "<style scoped>\n",
       "    .dataframe tbody tr th:only-of-type {\n",
       "        vertical-align: middle;\n",
       "    }\n",
       "\n",
       "    .dataframe tbody tr th {\n",
       "        vertical-align: top;\n",
       "    }\n",
       "\n",
       "    .dataframe thead th {\n",
       "        text-align: right;\n",
       "    }\n",
       "</style>\n",
       "<table border=\"1\" class=\"dataframe\">\n",
       "  <thead>\n",
       "    <tr style=\"text-align: right;\">\n",
       "      <th></th>\n",
       "      <th>donor_id</th>\n",
       "      <th>name</th>\n",
       "      <th>email</th>\n",
       "      <th>password</th>\n",
       "      <th>contact_number</th>\n",
       "      <th>city</th>\n",
       "      <th>blood_group</th>\n",
       "      <th>availability</th>\n",
       "      <th>months_since_first_donation</th>\n",
       "      <th>number_of_donation</th>\n",
       "      <th>pints_donated</th>\n",
       "      <th>created_at</th>\n",
       "    </tr>\n",
       "  </thead>\n",
       "  <tbody>\n",
       "    <tr>\n",
       "      <th>0</th>\n",
       "      <td>1b8b4c828a</td>\n",
       "      <td>Norma Fisher</td>\n",
       "      <td>ysullivan@yahoo.com</td>\n",
       "      <td>P5hX6Syg*A</td>\n",
       "      <td>+61 461706749</td>\n",
       "      <td>Hobart</td>\n",
       "      <td>A+</td>\n",
       "      <td>No</td>\n",
       "      <td>65.0</td>\n",
       "      <td>31.0</td>\n",
       "      <td>62.0</td>\n",
       "      <td>2017-03-17</td>\n",
       "    </tr>\n",
       "    <tr>\n",
       "      <th>1</th>\n",
       "      <td>ID_2</td>\n",
       "      <td>Eugene Bowman</td>\n",
       "      <td>hramos@brown-sellers.com</td>\n",
       "      <td>b6Wq6Cqz@5</td>\n",
       "      <td>+61 450709944</td>\n",
       "      <td>Unknown</td>\n",
       "      <td>AB-</td>\n",
       "      <td>NaN</td>\n",
       "      <td>64.0</td>\n",
       "      <td>8.0</td>\n",
       "      <td>16.0</td>\n",
       "      <td>2016-11-11</td>\n",
       "    </tr>\n",
       "    <tr>\n",
       "      <th>2</th>\n",
       "      <td>cee6478144</td>\n",
       "      <td>Sheri Bolton DDS</td>\n",
       "      <td>jasmine85@hotmail.com</td>\n",
       "      <td>$9RB51m#s7</td>\n",
       "      <td>+61 428756361</td>\n",
       "      <td>Melbourne</td>\n",
       "      <td>AB+</td>\n",
       "      <td>Yes</td>\n",
       "      <td>NaN</td>\n",
       "      <td>6.0</td>\n",
       "      <td>6.0</td>\n",
       "      <td>2022-02-25</td>\n",
       "    </tr>\n",
       "    <tr>\n",
       "      <th>3</th>\n",
       "      <td>5986bc55f9</td>\n",
       "      <td>Kelly Boyd</td>\n",
       "      <td>pattylawrence@riley-hayes.com</td>\n",
       "      <td>@5Tdg(4kCm</td>\n",
       "      <td>+61 454318320</td>\n",
       "      <td>Darwin</td>\n",
       "      <td>A-</td>\n",
       "      <td>No</td>\n",
       "      <td>55.0</td>\n",
       "      <td>20.0</td>\n",
       "      <td>20.0</td>\n",
       "      <td>2025-04-04</td>\n",
       "    </tr>\n",
       "    <tr>\n",
       "      <th>4</th>\n",
       "      <td>93246afe6c</td>\n",
       "      <td>Taylor Guzman</td>\n",
       "      <td>martinezjacob@wilson.com</td>\n",
       "      <td>x!)9Ag@J*7</td>\n",
       "      <td>NaN</td>\n",
       "      <td>Darwin</td>\n",
       "      <td>O-</td>\n",
       "      <td>No</td>\n",
       "      <td>7.0</td>\n",
       "      <td>35.0</td>\n",
       "      <td>35.0</td>\n",
       "      <td>2022-11-30</td>\n",
       "    </tr>\n",
       "  </tbody>\n",
       "</table>\n",
       "</div>"
      ],
      "text/plain": [
       "     donor_id              name                          email    password  \\\n",
       "0  1b8b4c828a      Norma Fisher            ysullivan@yahoo.com  P5hX6Syg*A   \n",
       "1        ID_2     Eugene Bowman       hramos@brown-sellers.com  b6Wq6Cqz@5   \n",
       "2  cee6478144  Sheri Bolton DDS          jasmine85@hotmail.com  $9RB51m#s7   \n",
       "3  5986bc55f9        Kelly Boyd  pattylawrence@riley-hayes.com  @5Tdg(4kCm   \n",
       "4  93246afe6c     Taylor Guzman       martinezjacob@wilson.com  x!)9Ag@J*7   \n",
       "\n",
       "  contact_number       city blood_group availability  \\\n",
       "0  +61 461706749     Hobart          A+           No   \n",
       "1  +61 450709944    Unknown         AB-          NaN   \n",
       "2  +61 428756361  Melbourne         AB+          Yes   \n",
       "3  +61 454318320     Darwin          A-           No   \n",
       "4            NaN     Darwin          O-           No   \n",
       "\n",
       "   months_since_first_donation  number_of_donation  pints_donated  created_at  \n",
       "0                         65.0                31.0           62.0  2017-03-17  \n",
       "1                         64.0                 8.0           16.0  2016-11-11  \n",
       "2                          NaN                 6.0            6.0  2022-02-25  \n",
       "3                         55.0                20.0           20.0  2025-04-04  \n",
       "4                          7.0                35.0           35.0  2022-11-30  "
      ]
     },
     "execution_count": 2,
     "metadata": {},
     "output_type": "execute_result"
    }
   ],
   "source": [
    "\n",
    "df = pd.read_csv(DATA)\n",
    "print('Initial shape:', df.shape)\n",
    "df.head()\n"
   ]
  },
  {
   "cell_type": "markdown",
   "id": "39f62f4f",
   "metadata": {},
   "source": [
    "\n",
    "## Step 2 — Remove duplicates\n",
    "**What we do:** Drop duplicate rows (if any).\n",
    "\n",
    "**Advantages**\n",
    "- Prevent duplicated signals from biasing the model\n",
    "- Keeps metrics honest"
   ]
  },
  {
   "cell_type": "code",
   "execution_count": 3,
   "id": "3f59267f",
   "metadata": {},
   "outputs": [
    {
     "name": "stdout",
     "output_type": "stream",
     "text": [
      "Removed 11 duplicate rows | New shape: (10010, 12)\n"
     ]
    }
   ],
   "source": [
    "\n",
    "before = df.shape[0]\n",
    "df = df.drop_duplicates()\n",
    "after = df.shape[0]\n",
    "print(f'Removed {before - after} duplicate rows | New shape: {df.shape}')\n"
   ]
  },
  {
   "cell_type": "markdown",
   "id": "ff43e75b",
   "metadata": {},
   "source": [
    "\n",
    "## Step 3 — Light NA handling (target only)\n",
    "**What we do:** Ensure `availability` exists and drop rows where it's missing. We let the **model pipeline** impute feature NAs later.\n",
    "\n",
    "**Advantages**\n",
    "- Minimal data loss\n",
    "- Centralized imputation in one place (the pipeline)"
   ]
  },
  {
   "cell_type": "code",
   "execution_count": 4,
   "id": "a1b27322",
   "metadata": {},
   "outputs": [
    {
     "name": "stdout",
     "output_type": "stream",
     "text": [
      "Dropped rows with missing target: 459\n",
      "Current shape: (9551, 12)\n"
     ]
    }
   ],
   "source": [
    "\n",
    "TARGET = 'availability'\n",
    "if TARGET not in df.columns:\n",
    "    raise ValueError('Target column \"availability\" not found. Confirm the dataset schema.')\n",
    "\n",
    "drop_before = df.shape[0]\n",
    "df = df.dropna(subset=[TARGET])\n",
    "print(f'Dropped rows with missing target: {drop_before - df.shape[0]}')\n",
    "print('Current shape:', df.shape)\n"
   ]
  },
  {
   "cell_type": "markdown",
   "id": "fb29b92b",
   "metadata": {},
   "source": [
    "\n",
    "## Step 4 — Light outlier filter (IQR on key numerics)\n",
    "**What we do:** Gently remove extreme outliers on a few numeric fields using the **IQR rule** (k=3).\n",
    "\n",
    "**Advantages**\n",
    "- Reduces the influence of extreme points\n",
    "- Keeps the rule simple & explainable"
   ]
  },
  {
   "cell_type": "code",
   "execution_count": 5,
   "id": "bba0810d",
   "metadata": {},
   "outputs": [
    {
     "name": "stdout",
     "output_type": "stream",
     "text": [
      "Outlier-filter removed: 0 | New shape: (9551, 12)\n"
     ]
    }
   ],
   "source": [
    "\n",
    "cand_num = [c for c in ['months_since_first_donation','number_of_donation','pints_donated'] if c in df.columns]\n",
    "\n",
    "def iqr_mask(x, k=3.0):\n",
    "    q1, q3 = x.quantile(0.25), x.quantile(0.75)\n",
    "    iqr = q3 - q1\n",
    "    low, high = q1 - k*iqr, q3 + k*iqr\n",
    "    return x.isna() | ((x >= low) & (x <= high))\n",
    "\n",
    "before = df.shape[0]\n",
    "if cand_num:\n",
    "    mask = pd.Series(True, index=df.index)\n",
    "    for c in cand_num:\n",
    "        mask &= iqr_mask(df[c].astype(float), k=3.0)\n",
    "    df = df[mask]\n",
    "print(f'Outlier-filter removed: {before - df.shape[0]} | New shape: {df.shape}')\n"
   ]
  },
  {
   "cell_type": "markdown",
   "id": "5505ec82",
   "metadata": {},
   "source": [
    "\n",
    "## Step 5 — Reset index & sanity checks\n",
    "**What we do:** Reset row indices after filtering; print schema & summary.\n",
    "\n",
    "**Advantages**\n",
    "- Clean indices help with merges & plotting\n",
    "- Early dtype issues surface here (e.g., dates as strings)"
   ]
  },
  {
   "cell_type": "code",
   "execution_count": 6,
   "id": "b907909b",
   "metadata": {},
   "outputs": [
    {
     "name": "stdout",
     "output_type": "stream",
     "text": [
      "<class 'pandas.core.frame.DataFrame'>\n",
      "RangeIndex: 9551 entries, 0 to 9550\n",
      "Data columns (total 12 columns):\n",
      " #   Column                       Non-Null Count  Dtype  \n",
      "---  ------                       --------------  -----  \n",
      " 0   donor_id                     9098 non-null   object \n",
      " 1   name                         9268 non-null   object \n",
      " 2   email                        9090 non-null   object \n",
      " 3   password                     9103 non-null   object \n",
      " 4   contact_number               9093 non-null   object \n",
      " 5   city                         9551 non-null   object \n",
      " 6   blood_group                  9075 non-null   object \n",
      " 7   availability                 9551 non-null   object \n",
      " 8   months_since_first_donation  9071 non-null   float64\n",
      " 9   number_of_donation           9014 non-null   float64\n",
      " 10  pints_donated                9113 non-null   float64\n",
      " 11  created_at                   9082 non-null   object \n",
      "dtypes: float64(3), object(9)\n",
      "memory usage: 895.5+ KB\n",
      "None\n"
     ]
    },
    {
     "data": {
      "text/html": [
       "<div>\n",
       "<style scoped>\n",
       "    .dataframe tbody tr th:only-of-type {\n",
       "        vertical-align: middle;\n",
       "    }\n",
       "\n",
       "    .dataframe tbody tr th {\n",
       "        vertical-align: top;\n",
       "    }\n",
       "\n",
       "    .dataframe thead th {\n",
       "        text-align: right;\n",
       "    }\n",
       "</style>\n",
       "<table border=\"1\" class=\"dataframe\">\n",
       "  <thead>\n",
       "    <tr style=\"text-align: right;\">\n",
       "      <th></th>\n",
       "      <th>count</th>\n",
       "      <th>unique</th>\n",
       "      <th>top</th>\n",
       "      <th>freq</th>\n",
       "      <th>mean</th>\n",
       "      <th>std</th>\n",
       "      <th>min</th>\n",
       "      <th>25%</th>\n",
       "      <th>50%</th>\n",
       "      <th>75%</th>\n",
       "      <th>max</th>\n",
       "    </tr>\n",
       "  </thead>\n",
       "  <tbody>\n",
       "    <tr>\n",
       "      <th>donor_id</th>\n",
       "      <td>9098</td>\n",
       "      <td>9089</td>\n",
       "      <td>f66f1dd914</td>\n",
       "      <td>2</td>\n",
       "      <td>NaN</td>\n",
       "      <td>NaN</td>\n",
       "      <td>NaN</td>\n",
       "      <td>NaN</td>\n",
       "      <td>NaN</td>\n",
       "      <td>NaN</td>\n",
       "      <td>NaN</td>\n",
       "    </tr>\n",
       "    <tr>\n",
       "      <th>name</th>\n",
       "      <td>9268</td>\n",
       "      <td>8365</td>\n",
       "      <td>Unknown</td>\n",
       "      <td>440</td>\n",
       "      <td>NaN</td>\n",
       "      <td>NaN</td>\n",
       "      <td>NaN</td>\n",
       "      <td>NaN</td>\n",
       "      <td>NaN</td>\n",
       "      <td>NaN</td>\n",
       "      <td>NaN</td>\n",
       "    </tr>\n",
       "    <tr>\n",
       "      <th>email</th>\n",
       "      <td>9090</td>\n",
       "      <td>9040</td>\n",
       "      <td>gsmith@yahoo.com</td>\n",
       "      <td>3</td>\n",
       "      <td>NaN</td>\n",
       "      <td>NaN</td>\n",
       "      <td>NaN</td>\n",
       "      <td>NaN</td>\n",
       "      <td>NaN</td>\n",
       "      <td>NaN</td>\n",
       "      <td>NaN</td>\n",
       "    </tr>\n",
       "    <tr>\n",
       "      <th>password</th>\n",
       "      <td>9103</td>\n",
       "      <td>9094</td>\n",
       "      <td>e5Xm#@fZ%E</td>\n",
       "      <td>2</td>\n",
       "      <td>NaN</td>\n",
       "      <td>NaN</td>\n",
       "      <td>NaN</td>\n",
       "      <td>NaN</td>\n",
       "      <td>NaN</td>\n",
       "      <td>NaN</td>\n",
       "      <td>NaN</td>\n",
       "    </tr>\n",
       "    <tr>\n",
       "      <th>contact_number</th>\n",
       "      <td>9093</td>\n",
       "      <td>9087</td>\n",
       "      <td>+61 430982449</td>\n",
       "      <td>2</td>\n",
       "      <td>NaN</td>\n",
       "      <td>NaN</td>\n",
       "      <td>NaN</td>\n",
       "      <td>NaN</td>\n",
       "      <td>NaN</td>\n",
       "      <td>NaN</td>\n",
       "      <td>NaN</td>\n",
       "    </tr>\n",
       "    <tr>\n",
       "      <th>city</th>\n",
       "      <td>9551</td>\n",
       "      <td>9</td>\n",
       "      <td>Canberra</td>\n",
       "      <td>1171</td>\n",
       "      <td>NaN</td>\n",
       "      <td>NaN</td>\n",
       "      <td>NaN</td>\n",
       "      <td>NaN</td>\n",
       "      <td>NaN</td>\n",
       "      <td>NaN</td>\n",
       "      <td>NaN</td>\n",
       "    </tr>\n",
       "    <tr>\n",
       "      <th>blood_group</th>\n",
       "      <td>9075</td>\n",
       "      <td>8</td>\n",
       "      <td>AB-</td>\n",
       "      <td>1181</td>\n",
       "      <td>NaN</td>\n",
       "      <td>NaN</td>\n",
       "      <td>NaN</td>\n",
       "      <td>NaN</td>\n",
       "      <td>NaN</td>\n",
       "      <td>NaN</td>\n",
       "      <td>NaN</td>\n",
       "    </tr>\n",
       "    <tr>\n",
       "      <th>availability</th>\n",
       "      <td>9551</td>\n",
       "      <td>2</td>\n",
       "      <td>Yes</td>\n",
       "      <td>4865</td>\n",
       "      <td>NaN</td>\n",
       "      <td>NaN</td>\n",
       "      <td>NaN</td>\n",
       "      <td>NaN</td>\n",
       "      <td>NaN</td>\n",
       "      <td>NaN</td>\n",
       "      <td>NaN</td>\n",
       "    </tr>\n",
       "    <tr>\n",
       "      <th>months_since_first_donation</th>\n",
       "      <td>9071.0</td>\n",
       "      <td>NaN</td>\n",
       "      <td>NaN</td>\n",
       "      <td>NaN</td>\n",
       "      <td>60.007827</td>\n",
       "      <td>34.94891</td>\n",
       "      <td>0.0</td>\n",
       "      <td>30.0</td>\n",
       "      <td>60.0</td>\n",
       "      <td>90.0</td>\n",
       "      <td>120.0</td>\n",
       "    </tr>\n",
       "    <tr>\n",
       "      <th>number_of_donation</th>\n",
       "      <td>9014.0</td>\n",
       "      <td>NaN</td>\n",
       "      <td>NaN</td>\n",
       "      <td>NaN</td>\n",
       "      <td>25.183381</td>\n",
       "      <td>14.65635</td>\n",
       "      <td>0.0</td>\n",
       "      <td>12.0</td>\n",
       "      <td>26.0</td>\n",
       "      <td>38.0</td>\n",
       "      <td>50.0</td>\n",
       "    </tr>\n",
       "    <tr>\n",
       "      <th>pints_donated</th>\n",
       "      <td>9113.0</td>\n",
       "      <td>NaN</td>\n",
       "      <td>NaN</td>\n",
       "      <td>NaN</td>\n",
       "      <td>37.812795</td>\n",
       "      <td>26.366592</td>\n",
       "      <td>0.0</td>\n",
       "      <td>17.0</td>\n",
       "      <td>34.0</td>\n",
       "      <td>52.0</td>\n",
       "      <td>100.0</td>\n",
       "    </tr>\n",
       "    <tr>\n",
       "      <th>created_at</th>\n",
       "      <td>9082</td>\n",
       "      <td>3336</td>\n",
       "      <td>2024-12-10</td>\n",
       "      <td>10</td>\n",
       "      <td>NaN</td>\n",
       "      <td>NaN</td>\n",
       "      <td>NaN</td>\n",
       "      <td>NaN</td>\n",
       "      <td>NaN</td>\n",
       "      <td>NaN</td>\n",
       "      <td>NaN</td>\n",
       "    </tr>\n",
       "  </tbody>\n",
       "</table>\n",
       "</div>"
      ],
      "text/plain": [
       "                              count unique               top  freq       mean  \\\n",
       "donor_id                       9098   9089        f66f1dd914     2        NaN   \n",
       "name                           9268   8365           Unknown   440        NaN   \n",
       "email                          9090   9040  gsmith@yahoo.com     3        NaN   \n",
       "password                       9103   9094        e5Xm#@fZ%E     2        NaN   \n",
       "contact_number                 9093   9087     +61 430982449     2        NaN   \n",
       "city                           9551      9          Canberra  1171        NaN   \n",
       "blood_group                    9075      8               AB-  1181        NaN   \n",
       "availability                   9551      2               Yes  4865        NaN   \n",
       "months_since_first_donation  9071.0    NaN               NaN   NaN  60.007827   \n",
       "number_of_donation           9014.0    NaN               NaN   NaN  25.183381   \n",
       "pints_donated                9113.0    NaN               NaN   NaN  37.812795   \n",
       "created_at                     9082   3336        2024-12-10    10        NaN   \n",
       "\n",
       "                                   std  min   25%   50%   75%    max  \n",
       "donor_id                           NaN  NaN   NaN   NaN   NaN    NaN  \n",
       "name                               NaN  NaN   NaN   NaN   NaN    NaN  \n",
       "email                              NaN  NaN   NaN   NaN   NaN    NaN  \n",
       "password                           NaN  NaN   NaN   NaN   NaN    NaN  \n",
       "contact_number                     NaN  NaN   NaN   NaN   NaN    NaN  \n",
       "city                               NaN  NaN   NaN   NaN   NaN    NaN  \n",
       "blood_group                        NaN  NaN   NaN   NaN   NaN    NaN  \n",
       "availability                       NaN  NaN   NaN   NaN   NaN    NaN  \n",
       "months_since_first_donation   34.94891  0.0  30.0  60.0  90.0  120.0  \n",
       "number_of_donation            14.65635  0.0  12.0  26.0  38.0   50.0  \n",
       "pints_donated                26.366592  0.0  17.0  34.0  52.0  100.0  \n",
       "created_at                         NaN  NaN   NaN   NaN   NaN    NaN  "
      ]
     },
     "execution_count": 6,
     "metadata": {},
     "output_type": "execute_result"
    }
   ],
   "source": [
    "\n",
    "df = df.reset_index(drop=True)\n",
    "print(df.info())\n",
    "df.describe(include='all').T.head(20)\n"
   ]
  },
  {
   "cell_type": "markdown",
   "id": "2fd81b17",
   "metadata": {},
   "source": [
    "\n",
    "## Step 6 — Map target to 0/1 and check balance\n",
    "**What we do:** Convert Yes/No-like labels to 1/0. Print class counts.\n",
    "\n",
    "**Advantages**\n",
    "- Makes the target compatible with scikit-learn\n",
    "- Confirms if classes are roughly balanced"
   ]
  },
  {
   "cell_type": "code",
   "execution_count": 7,
   "id": "e8b9cc80",
   "metadata": {},
   "outputs": [
    {
     "name": "stdout",
     "output_type": "stream",
     "text": [
      "Class balance:\n",
      " availability\n",
      "1    4865\n",
      "0    4686\n",
      "Name: count, dtype: int64\n"
     ]
    }
   ],
   "source": [
    "\n",
    "y = (df[TARGET].astype(str).str.strip().str.lower()\n",
    "     .map({'yes':1,'y':1,'true':1,'1':1,'no':0,'n':0,'false':0,'0':0})\n",
    "     .fillna(0).astype(int))\n",
    "print('Class balance:\\n', y.value_counts())\n"
   ]
  },
  {
   "cell_type": "markdown",
   "id": "886d9f68",
   "metadata": {},
   "source": [
    "\n",
    "## Step 7 — Quick EDA (3 tiny visuals)\n",
    "**What we do:** Plot a few simple distributions/ratios.\n",
    "\n",
    "**Advantages**\n",
    "- Spot obvious skews\n",
    "- Gives language for your report/demo"
   ]
  },
  {
   "cell_type": "code",
   "execution_count": 8,
   "id": "c8b038d4",
   "metadata": {},
   "outputs": [
    {
     "data": {
      "image/png": "[encoded data removed]",
      "text/plain": [
       "<Figure size 1500x400 with 3 Axes>"
      ]
     },
     "metadata": {},
     "output_type": "display_data"
    }
   ],
   "source": [
    "\n",
    "fig, axs = plt.subplots(1,3, figsize=(15,4))\n",
    "\n",
    "if 'pints_donated' in df.columns:\n",
    "    axs[0].hist(df['pints_donated'].dropna(), bins=20)\n",
    "    axs[0].set_title('Pints Donated (hist)')\n",
    "else:\n",
    "    axs[0].axis('off')\n",
    "\n",
    "if 'blood_group' in df.columns:\n",
    "    (df.groupby('blood_group')[TARGET]\n",
    "       .apply(lambda s: (s.astype(str).str.lower().isin(['yes','y','true','1']).mean()))\n",
    "       .sort_values()\n",
    "       .plot(kind='bar', ax=axs[1], rot=45, title='Availability rate by Blood Group'))\n",
    "else:\n",
    "    axs[1].axis('off')\n",
    "\n",
    "if 'city' in df.columns:\n",
    "    (df.groupby('city')[TARGET]\n",
    "       .apply(lambda s: (s.astype(str).str.lower().isin(['yes','y','true','1']).mean()))\n",
    "       .sort_values()\n",
    "       .plot(kind='bar', ax=axs[2], rot=45, title='Availability rate by City'))\n",
    "else:\n",
    "    axs[2].axis('off')\n",
    "\n",
    "plt.tight_layout()\n",
    "plt.show()\n"
   ]
  },
  {
   "cell_type": "markdown",
   "id": "a3fb9991",
   "metadata": {},
   "source": [
    "\n",
    "## Step 8 — Feature selection (keep it small & clear)\n",
    "**What we do:** Drop PII-like columns and derive simple date parts from `created_at` if available.\n",
    "\n",
    "**Advantages**\n",
    "- Protects privacy and prevents leakage\n",
    "- Simple features stay explainable"
   ]
  },
  {
   "cell_type": "code",
   "execution_count": 9,
   "id": "2014002b",
   "metadata": {},
   "outputs": [
    {
     "name": "stdout",
     "output_type": "stream",
     "text": [
      "Categorical: ['city', 'blood_group']\n",
      "Numerical  : ['months_since_first_donation', 'number_of_donation', 'pints_donated', 'created_at_year', 'created_at_month', 'created_at_day']\n"
     ]
    }
   ],
   "source": [
    "\n",
    "drop_cols = [c for c in ['name','email','password','contact_number','donor_id'] if c in df.columns]\n",
    "X = df.drop(columns=[TARGET] + drop_cols, errors='ignore').copy()\n",
    "\n",
    "if 'created_at' in X.columns:\n",
    "    dt = pd.to_datetime(X['created_at'], errors='coerce')\n",
    "    X['created_at_year'] = dt.dt.year\n",
    "    X['created_at_month'] = dt.dt.month\n",
    "    X['created_at_day'] = dt.dt.day\n",
    "    X = X.drop(columns=['created_at'])\n",
    "\n",
    "cat_cols = [c for c in X.columns if X[c].dtype=='object']\n",
    "num_cols = [c for c in X.columns if c not in cat_cols]\n",
    "\n",
    "print('Categorical:', cat_cols)\n",
    "print('Numerical  :', num_cols)\n"
   ]
  },
  {
   "cell_type": "markdown",
   "id": "6ac76fd7",
   "metadata": {},
   "source": [
    "\n",
    "## Step 9 — Preprocessing pipeline\n",
    "**What we do:** Define a single **ColumnTransformer** that imputes & encodes everything consistently.\n",
    "\n",
    "**Advantages**\n",
    "- Guarantees the same treatment during training & in the app\n",
    "- Handles unknown categories gracefully"
   ]
  },
  {
   "cell_type": "code",
   "execution_count": 10,
   "id": "e05054c4",
   "metadata": {},
   "outputs": [],
   "source": [
    "\n",
    "preprocess = ColumnTransformer(transformers=[\n",
    "    ('num', Pipeline([('imp', SimpleImputer(strategy='median')), ('sc', StandardScaler(with_mean=False))]), num_cols),\n",
    "    ('cat', Pipeline([('imp', SimpleImputer(strategy='most_frequent')), ('oh', OneHotEncoder(handle_unknown='ignore'))]), cat_cols)\n",
    "])\n"
   ]
  },
  {
   "cell_type": "markdown",
   "id": "b941abf2",
   "metadata": {},
   "source": [
    "\n",
    "## Step 10 — Train/test split (stratified 80/20)\n",
    "**What we do:** Hold out 20% for final sanity checks.\n",
    "\n",
    "**Advantages**\n",
    "- Prevents overfitting to cross-validation folds\n",
    "- Gives a clean final metric for the demo"
   ]
  },
  {
   "cell_type": "code",
   "execution_count": 11,
   "id": "25092e98",
   "metadata": {},
   "outputs": [
    {
     "name": "stdout",
     "output_type": "stream",
     "text": [
      "Train: (7640, 8) | Test: (1911, 8)\n"
     ]
    }
   ],
   "source": [
    "\n",
    "X_train, X_test, y_train, y_test = train_test_split(\n",
    "    X, y, test_size=0.2, stratify=y, random_state=42\n",
    ")\n",
    "print('Train:', X_train.shape, '| Test:', X_test.shape)\n"
   ]
  },
  {
   "cell_type": "markdown",
   "id": "b18ddaf8",
   "metadata": {},
   "source": [
    "\n",
    "## Step 11 — Baseline: Logistic Regression\n",
    "**What we do:** Train a simple, robust baseline with class_weight balancing.\n",
    "\n",
    "**Advantages**\n",
    "- Fast, transparent baseline\n",
    "- Often competitive when features are well-prepared"
   ]
  },
  {
   "cell_type": "code",
   "execution_count": 12,
   "id": "697de18d",
   "metadata": {},
   "outputs": [
    {
     "name": "stdout",
     "output_type": "stream",
     "text": [
      "F1-macro: 0.5194620423064533\n",
      "ROC-AUC  : 0.5187131440141826\n",
      "              precision    recall  f1-score   support\n",
      "\n",
      "           0       0.51      0.51      0.51       938\n",
      "           1       0.53      0.53      0.53       973\n",
      "\n",
      "    accuracy                           0.52      1911\n",
      "   macro avg       0.52      0.52      0.52      1911\n",
      "weighted avg       0.52      0.52      0.52      1911\n",
      "\n"
     ]
    },
    {
     "data": {
      "image/png": "[encoded data removed]",
      "text/plain": [
       "<Figure size 640x480 with 2 Axes>"
      ]
     },
     "metadata": {},
     "output_type": "display_data"
    }
   ],
   "source": [
    "\n",
    "logreg = Pipeline([('pre', preprocess), ('clf', LogisticRegression(max_iter=300, class_weight='balanced'))])\n",
    "logreg.fit(X_train, y_train)\n",
    "yp = logreg.predict(X_test)\n",
    "proba = logreg.predict_proba(X_test)[:,1]\n",
    "\n",
    "print('F1-macro:', f1_score(y_test, yp, average='macro'))\n",
    "print('ROC-AUC  :', roc_auc_score(y_test, proba))\n",
    "print(classification_report(y_test, yp))\n",
    "\n",
    "ConfusionMatrixDisplay(confusion_matrix(y_test, yp)).plot()\n",
    "plt.title('Confusion Matrix — Logistic Regression')\n",
    "plt.show()\n"
   ]
  },
  {
   "cell_type": "markdown",
   "id": "0e93fbe6",
   "metadata": {},
   "source": [
    "\n",
    "## Step 12 — Extra models & 5-fold CV leaderboard\n",
    "**What we do:** Compare **Random Forest** and **SVC (RBF)** against our baseline with consistent cross-validation.\n",
    "\n",
    "**Advantages**\n",
    "- Fair model selection (same folds & metrics)\n",
    "- Keeps the comparison small but meaningful"
   ]
  },
  {
   "cell_type": "code",
   "execution_count": 13,
   "id": "81277023",
   "metadata": {},
   "outputs": [
    {
     "data": {
      "text/html": [
       "<div>\n",
       "<style scoped>\n",
       "    .dataframe tbody tr th:only-of-type {\n",
       "        vertical-align: middle;\n",
       "    }\n",
       "\n",
       "    .dataframe tbody tr th {\n",
       "        vertical-align: top;\n",
       "    }\n",
       "\n",
       "    .dataframe thead th {\n",
       "        text-align: right;\n",
       "    }\n",
       "</style>\n",
       "<table border=\"1\" class=\"dataframe\">\n",
       "  <thead>\n",
       "    <tr style=\"text-align: right;\">\n",
       "      <th></th>\n",
       "      <th>model</th>\n",
       "      <th>f1_macro_mean</th>\n",
       "      <th>roc_auc_mean</th>\n",
       "    </tr>\n",
       "  </thead>\n",
       "  <tbody>\n",
       "    <tr>\n",
       "      <th>0</th>\n",
       "      <td>LogReg</td>\n",
       "      <td>0.499499</td>\n",
       "      <td>0.498342</td>\n",
       "    </tr>\n",
       "    <tr>\n",
       "      <th>1</th>\n",
       "      <td>RandomForest</td>\n",
       "      <td>0.487121</td>\n",
       "      <td>0.484883</td>\n",
       "    </tr>\n",
       "    <tr>\n",
       "      <th>2</th>\n",
       "      <td>SVC_RBF</td>\n",
       "      <td>0.337472</td>\n",
       "      <td>0.502832</td>\n",
       "    </tr>\n",
       "  </tbody>\n",
       "</table>\n",
       "</div>"
      ],
      "text/plain": [
       "          model  f1_macro_mean  roc_auc_mean\n",
       "0        LogReg       0.499499      0.498342\n",
       "1  RandomForest       0.487121      0.484883\n",
       "2       SVC_RBF       0.337472      0.502832"
      ]
     },
     "execution_count": 13,
     "metadata": {},
     "output_type": "execute_result"
    }
   ],
   "source": [
    "\n",
    "models = {\n",
    "    'LogReg': LogisticRegression(max_iter=300, class_weight='balanced'),\n",
    "    'RandomForest': RandomForestClassifier(n_estimators=300, class_weight='balanced_subsample', random_state=42),\n",
    "    'SVC_RBF': SVC(kernel='rbf', probability=True, class_weight='balanced', random_state=42)\n",
    "}\n",
    "\n",
    "def make_pipe(est):\n",
    "    return Pipeline([('pre', preprocess), ('clf', est)])\n",
    "\n",
    "cv = StratifiedKFold(n_splits=5, shuffle=True, random_state=42)\n",
    "rows = []\n",
    "for name, est in models.items():\n",
    "    pipe = make_pipe(est)\n",
    "    cvres = cross_validate(pipe, X, y, cv=cv,\n",
    "                           scoring={'f1_macro':'f1_macro', 'roc_auc':'roc_auc'},\n",
    "                           n_jobs=-1, return_train_score=False)\n",
    "    rows.append({\n",
    "        'model': name,\n",
    "        'f1_macro_mean': cvres['test_f1_macro'].mean(),\n",
    "        'roc_auc_mean': cvres['test_roc_auc'].mean()\n",
    "    })\n",
    "leaderboard = pd.DataFrame(rows).sort_values('f1_macro_mean', ascending=False)\n",
    "leaderboard\n"
   ]
  },
  {
   "cell_type": "markdown",
   "id": "9305bd5a",
   "metadata": {},
   "source": [
    "\n",
    "## Step 13 — Choose a suitable model & evaluate on test\n",
    "**What we do:** Pick the leaderboard winner (by F1-macro), fit on the training set, then evaluate on the held-out test set.\n",
    "\n",
    "**Advantages**\n",
    "- Transparent, metric-driven choice\n",
    "- Final test metric separate from CV"
   ]
  },
  {
   "cell_type": "code",
   "execution_count": 14,
   "id": "bf156b15",
   "metadata": {},
   "outputs": [
    {
     "name": "stdout",
     "output_type": "stream",
     "text": [
      "Chosen model: LogReg\n",
      "Final Test F1-macro: 0.5194620423064533\n",
      "Final Test ROC-AUC  : 0.5187131440141826\n"
     ]
    },
    {
     "data": {
      "image/png": "[encoded data removed]",
      "text/plain": [
       "<Figure size 640x480 with 2 Axes>"
      ]
     },
     "metadata": {},
     "output_type": "display_data"
    }
   ],
   "source": [
    "\n",
    "best_name = leaderboard.iloc[0]['model']\n",
    "print('Chosen model:', best_name)\n",
    "\n",
    "chosen_est = models[best_name]\n",
    "final_pipe = make_pipe(chosen_est).fit(X_train, y_train)\n",
    "\n",
    "yp_final = final_pipe.predict(X_test)\n",
    "proba_final = final_pipe.predict_proba(X_test)[:,1]\n",
    "\n",
    "f1 = f1_score(y_test, yp_final, average='macro')\n",
    "roc = roc_auc_score(y_test, proba_final)\n",
    "print('Final Test F1-macro:', f1)\n",
    "print('Final Test ROC-AUC  :', roc)\n",
    "\n",
    "ConfusionMatrixDisplay(confusion_matrix(y_test, yp_final)).plot()\n",
    "plt.title(f'Confusion Matrix — {best_name} (Test)')\n",
    "plt.show()\n"
   ]
  },
  {
   "cell_type": "markdown",
   "id": "bec1a844",
   "metadata": {},
   "source": [
    "\n",
    "## Step 14 — Save model artifact + tiny metrics JSON\n",
    "**What we do:** Persist one pipeline (`final_model.pkl`) and a **very small** `metrics.json` the app can read.\n",
    "\n",
    "**Advantages**\n",
    "- App remains lightweight (load-and-predict)\n",
    "- No manual preprocessing in the app (it’s inside the pipeline)"
   ]
  },
  {
   "cell_type": "code",
   "execution_count": 15,
   "id": "7aa4eb13",
   "metadata": {},
   "outputs": [
    {
     "name": "stdout",
     "output_type": "stream",
     "text": [
      "Saved: C:\\Users\\danan\\Downloads\\donor_app_full (3)\\models\\final_model.pkl\n",
      "Saved: C:\\Users\\danan\\Downloads\\donor_app_full (3)\\models\\metrics.json\n"
     ]
    }
   ],
   "source": [
    "\n",
    "import joblib\n",
    "\n",
    "metrics = {\n",
    "    'model': str(best_name),\n",
    "    'f1_macro': float(f1),\n",
    "    'roc_auc': float(roc),\n",
    "    'threshold': 0.50,\n",
    "    'timestamp': int(time.time())\n",
    "}\n",
    "joblib.dump(final_pipe, MODELS_DIR / 'final_model.pkl')\n",
    "with open(MODELS_DIR / 'metrics.json', 'w') as f:\n",
    "    json.dump(metrics, f, indent=2)\n",
    "\n",
    "print('Saved:', MODELS_DIR / 'final_model.pkl')\n",
    "print('Saved:', MODELS_DIR / 'metrics.json')\n"
   ]
  },
  {
   "cell_type": "markdown",
   "id": "9b3b47ff",
   "metadata": {},
   "source": [
    "\n",
    "## Optional — Save a cleaned CSV (for transparency)\n",
    "Useful if you want to share a tidy dataset version.\n"
   ]
  },
  {
   "cell_type": "code",
   "execution_count": 16,
   "id": "56e38d58",
   "metadata": {},
   "outputs": [
    {
     "name": "stdout",
     "output_type": "stream",
     "text": [
      "Saved cleaned CSV to: data\\clean_donor.csv\n"
     ]
    }
   ],
   "source": [
    "\n",
    "CLEAN = Path('data') / 'clean_donor.csv'\n",
    "df.to_csv(CLEAN, index=False)\n",
    "print('Saved cleaned CSV to:', CLEAN)\n"
   ]
  },
  {
   "cell_type": "markdown",
   "metadata": {},
   "source": [
    "\n",
    "---\n",
    "\n",
    "### You're done 🎉\n",
    "- You now have a **final_model.pkl** (preprocess + estimator) and **metrics.json**.\n",
    "- The Streamlit app can load these files to make predictions and show a probability gauge and threshold slider.\n"
   ]
  }
 ],
 "metadata": {
  "kernelspec": {
   "display_name": "Python 3",
   "language": "python",
   "name": "python3"
  },
  "language_info": {
   "codemirror_mode": {
    "name": "ipython",
    "version": 3
   },
   "file_extension": ".py",
   "mimetype": "text/x-python",
   "name": "python",
   "nbconvert_exporter": "python",
   "pygments_lexer": "ipython3",
   "version": "3.13.7"
  }
 },
 "nbformat": 4,
 "nbformat_minor": 5
}
